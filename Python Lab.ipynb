{
 "cells": [
  {
   "cell_type": "code",
   "execution_count": 2,
   "id": "79016a54",
   "metadata": {},
   "outputs": [
    {
     "data": {
      "text/plain": [
       "str"
      ]
     },
     "execution_count": 2,
     "metadata": {},
     "output_type": "execute_result"
    }
   ],
   "source": [
    "type(\"hello\")"
   ]
  },
  {
   "cell_type": "code",
   "execution_count": 3,
   "id": "635f86e9",
   "metadata": {},
   "outputs": [
    {
     "data": {
      "text/plain": [
       "set"
      ]
     },
     "execution_count": 3,
     "metadata": {},
     "output_type": "execute_result"
    }
   ],
   "source": [
    "type({1, 2, 3})"
   ]
  },
  {
   "cell_type": "code",
   "execution_count": 4,
   "id": "be7222bc",
   "metadata": {},
   "outputs": [
    {
     "data": {
      "text/plain": [
       "dict"
      ]
     },
     "execution_count": 4,
     "metadata": {},
     "output_type": "execute_result"
    }
   ],
   "source": [
    "type({\"a\": 2, \"b\": 4})"
   ]
  },
  {
   "cell_type": "code",
   "execution_count": 6,
   "id": "ba5d1077",
   "metadata": {},
   "outputs": [
    {
     "name": "stdout",
     "output_type": "stream",
     "text": [
      "closed\n",
      "opened\n"
     ]
    }
   ],
   "source": [
    "class Lift:\n",
    "    def __init__(self, f, s):\n",
    "        self.floor = f\n",
    "        self.status = s\n",
    "    \n",
    "    def close(self):\n",
    "        self.status = \"closed\"\n",
    "    \n",
    "    def open(self):\n",
    "        self.status = \"opened\"\n",
    "\n",
    "        \n",
    "class SecurityLift:\n",
    "    def __init__(self, f, s, l):\n",
    "        self.floor = f\n",
    "        self.status = s\n",
    "        self.locked = l\n",
    "    \n",
    "    def close(self):\n",
    "        self.status = \"closed\"\n",
    "    \n",
    "    def open(self):\n",
    "        self.status = \"opened\"\n",
    "\n",
    "        \n",
    "class ClosedLift:\n",
    "    def __init__(self, f, s=\"locked\"):\n",
    "        self.floor = f\n",
    "        self.status = s\n",
    "    \n",
    "    def close(self):\n",
    "        self.status = \"closed\"\n",
    "    \n",
    "    def open(self):\n",
    "        self.status = \"opened\"\n",
    "\n",
    "        \n",
    "class ToggleLift:\n",
    "    def __init__(self, f, s):\n",
    "        self.floor = f\n",
    "        self.status = s\n",
    "    \n",
    "    def close(self):\n",
    "        self.status = \"closed\"\n",
    "    \n",
    "    def open(self):\n",
    "        self.status = \"opened\"\n",
    "        \n",
    "        \n",
    "lift1 = Lift(1 , \"closed\")\n",
    "print(lift1.status)\n",
    "lift1.open()\n",
    "print(lift1.status)"
   ]
  }
 ],
 "metadata": {
  "kernelspec": {
   "display_name": "Python 3 (ipykernel)",
   "language": "python",
   "name": "python3"
  },
  "language_info": {
   "codemirror_mode": {
    "name": "ipython",
    "version": 3
   },
   "file_extension": ".py",
   "mimetype": "text/x-python",
   "name": "python",
   "nbconvert_exporter": "python",
   "pygments_lexer": "ipython3",
   "version": "3.12.3"
  }
 },
 "nbformat": 4,
 "nbformat_minor": 5
}
